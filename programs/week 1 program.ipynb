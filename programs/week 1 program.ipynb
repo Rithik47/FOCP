{
 "cells": [
  {
   "cell_type": "markdown",
   "id": "a3651e5b",
   "metadata": {},
   "source": [
    "# 1.Write a program that prints a cheery message (such as \"Hello World\") on thescreen. Run it, and note that you have taken the first step to becoming programmer!"
   ]
  },
  {
   "cell_type": "code",
   "execution_count": 1,
   "id": "4a8296a7",
   "metadata": {},
   "outputs": [
    {
     "name": "stdout",
     "output_type": "stream",
     "text": [
      "Hello, World! Congratulations on taking your first step to becoming a programmer!\n"
     ]
    }
   ],
   "source": [
    "\n",
    "def print_cheery_message():\n",
    "    print(\"Hello, World! Congratulations on taking your first step to becoming a programmer!\")\n",
    "\n",
    "if __name__ == \"__main__\":\n",
    "    print_cheery_message()\n"
   ]
  },
  {
   "cell_type": "markdown",
   "id": "057e7d59",
   "metadata": {},
   "source": [
    "# 2. Make a copy of the previous program, and modify it so that it displays your name.So if your name is Herbert the message should become: Hello, Herbert!\n"
   ]
  },
  {
   "cell_type": "code",
   "execution_count": 2,
   "id": "fe3f0b73",
   "metadata": {},
   "outputs": [
    {
     "name": "stdout",
     "output_type": "stream",
     "text": [
      "Hello, Herbert! Congratulations on taking your first step to becoming a programmer!\n"
     ]
    }
   ],
   "source": [
    "# Personalized Cheery Message Program\n",
    "\n",
    "def print_personalized_cheery_message(name):\n",
    "    print(f\"Hello, {name}! Congratulations on taking your first step to becoming a programmer!\")\n",
    "\n",
    "# Run the program with your name\n",
    "if __name__ == \"__main__\":\n",
    "    your_name = \"Herbert\"  # Replace this with your own name\n",
    "    print_personalized_cheery_message(your_name)\n"
   ]
  },
  {
   "cell_type": "markdown",
   "id": "bd7dcd89",
   "metadata": {},
   "source": [
    "# 3.Over the summer, temperatures in Yorkshire reached 38.4C. Write a program that converts this value in Celsius to the equivalent temperature in Fahrenheit, and then displays both."
   ]
  },
  {
   "cell_type": "code",
   "execution_count": 3,
   "id": "164d01eb",
   "metadata": {},
   "outputs": [
    {
     "name": "stdout",
     "output_type": "stream",
     "text": [
      "38.4 degrees Celsius is equal to 101.12 degrees Fahrenheit.\n"
     ]
    }
   ],
   "source": [
    "# Celsius to Fahrenheit Conversion Program\n",
    "\n",
    "def celsius_to_fahrenheit(celsius):\n",
    "    fahrenheit = (celsius * 9/5) + 32\n",
    "    return fahrenheit\n",
    "\n",
    "# Run the program\n",
    "if __name__ == \"__main__\":\n",
    "    celsius_temperature = 38.4\n",
    "\n",
    "    # Convert Celsius to Fahrenheit\n",
    "    fahrenheit_temperature = celsius_to_fahrenheit(celsius_temperature)\n",
    "\n",
    "    # Display the temperatures\n",
    "    print(f\"{celsius_temperature} degrees Celsius is equal to {fahrenheit_temperature:.2f} degrees Fahrenheit.\")\n"
   ]
  },
  {
   "cell_type": "markdown",
   "id": "2c6bdaa3",
   "metadata": {},
   "source": [
    "# 4. In a long career for Yorkshire, Geoffrey Boycott played 609 matches, batted 1014 times, was not out 162 times, and scored 48426 runs. Write a program to calculate and display Boycott's batting average. Note: A batting average is the number of runs scored divided by the number of completed innings (i.e. the total times batted minus the times not out)."
   ]
  },
  {
   "cell_type": "code",
   "execution_count": 4,
   "id": "cd05b0f3",
   "metadata": {},
   "outputs": [
    {
     "name": "stdout",
     "output_type": "stream",
     "text": [
      "Geoffrey Boycott's batting average is: 56.84\n"
     ]
    }
   ],
   "source": [
    "# Batting Average Calculation Program\n",
    "\n",
    "def calculate_batting_average(runs, times_batted, not_out):\n",
    "    total_innings = times_batted - not_out\n",
    "    batting_average = runs / total_innings\n",
    "    return batting_average\n",
    "\n",
    "# Geoffrey Boycott's career stats\n",
    "total_runs = 48426\n",
    "times_batted = 1014\n",
    "not_out = 162\n",
    "\n",
    "# Calculate batting average\n",
    "boycott_batting_average = calculate_batting_average(total_runs, times_batted, not_out)\n",
    "\n",
    "# Display the batting average\n",
    "print(f\"Geoffrey Boycott's batting average is: {boycott_batting_average:.2f}\")\n"
   ]
  },
  {
   "cell_type": "markdown",
   "id": "bb39e38d",
   "metadata": {},
   "source": [
    "# 5.The Head of Computing at the University of Poppleton is tasked with dividing a group of students into lab groups. A lab group is 24 students, since this is the number of PCs in a lab. Write a program that calculates how many groups are needed for the following number of students: 113, 175, 12. Display how many full groups there will be, and how many students will be in the smaller \"left over\" group"
   ]
  },
  {
   "cell_type": "code",
   "execution_count": 5,
   "id": "d58ca13c",
   "metadata": {},
   "outputs": [
    {
     "name": "stdout",
     "output_type": "stream",
     "text": [
      "For 113 students, you need 4 full groups and 17 students in the smaller group.\n",
      "For 175 students, you need 7 full groups and 7 students in the smaller group.\n",
      "For 12 students, you need 0 full groups and 12 students in the smaller group.\n"
     ]
    }
   ],
   "source": [
    "# Lab Group Calculation Program\n",
    "\n",
    "def calculate_lab_groups(students):\n",
    "    lab_group_size = 24\n",
    "\n",
    "    # Calculate full groups and remaining students\n",
    "    full_groups = students // lab_group_size\n",
    "    remaining_students = students % lab_group_size\n",
    "\n",
    "    return full_groups, remaining_students\n",
    "\n",
    "# Students for whom lab groups need to be formed\n",
    "students_list = [113, 175, 12]\n",
    "\n",
    "# Calculate and display lab groups for each number of students\n",
    "for students in students_list:\n",
    "    full_groups, remaining_students = calculate_lab_groups(students)\n",
    "    print(f\"For {students} students, you need {full_groups} full groups and {remaining_students} students in the smaller group.\")\n"
   ]
  },
  {
   "cell_type": "code",
   "execution_count": null,
   "id": "d5dff199",
   "metadata": {},
   "outputs": [],
   "source": []
  }
 ],
 "metadata": {
  "kernelspec": {
   "display_name": "Python 3 (ipykernel)",
   "language": "python",
   "name": "python3"
  },
  "language_info": {
   "codemirror_mode": {
    "name": "ipython",
    "version": 3
   },
   "file_extension": ".py",
   "mimetype": "text/x-python",
   "name": "python",
   "nbconvert_exporter": "python",
   "pygments_lexer": "ipython3",
   "version": "3.9.13"
  }
 },
 "nbformat": 4,
 "nbformat_minor": 5
}
