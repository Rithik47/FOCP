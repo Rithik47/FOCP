{
 "cells": [
  {
   "cell_type": "raw",
   "id": "c9a26e88",
   "metadata": {},
   "source": [
    "# 1.Write a function that accepts a positive integer as a parameter and then returns a\n",
    "representation of that number in binary (base 2).\n",
    "Hint: This is in many ways a trick question. Think!"
   ]
  },
  {
   "cell_type": "code",
   "execution_count": 1,
   "id": "780242cd",
   "metadata": {},
   "outputs": [
    {
     "name": "stdout",
     "output_type": "stream",
     "text": [
      "Enter a positive integer: 5\n",
      "The binary representation of 5 is: 0b101\n"
     ]
    }
   ],
   "source": [
    "def to_binary_representation(number):\n",
    "    if number < 0:\n",
    "        raise ValueError(\"Input must be a positive integer.\")\n",
    "\n",
    "    binary_representation = bin(number)\n",
    "    return binary_representation\n",
    "\n",
    "# Test the function\n",
    "try:\n",
    "    user_input = int(input(\"Enter a positive integer: \"))\n",
    "    binary_result = to_binary_representation(user_input)\n",
    "    print(f\"The binary representation of {user_input} is: {binary_result}\")\n",
    "except ValueError:\n",
    "    print(\"Error: Please enter a valid positive integer.\")\n"
   ]
  },
  {
   "cell_type": "raw",
   "id": "039bf264",
   "metadata": {},
   "source": [
    "2.Write and test a function that takes an integer as its parameter and returns the\n",
    "factors of that integer. (A factor is an integer which can be multiplied by another to\n",
    "yield the original)."
   ]
  },
  {
   "cell_type": "code",
   "execution_count": 2,
   "id": "872c8282",
   "metadata": {},
   "outputs": [
    {
     "name": "stdout",
     "output_type": "stream",
     "text": [
      "Enter a positive integer: 6\n",
      "The factors of 6 are: [1, 2, 3, 6]\n"
     ]
    }
   ],
   "source": [
    "def find_factors(number):\n",
    "    if number <= 0:\n",
    "        raise ValueError(\"Input must be a positive integer.\")\n",
    "\n",
    "    factors = []\n",
    "    for i in range(1, number + 1):\n",
    "        if number % i == 0:\n",
    "            factors.append(i)\n",
    "\n",
    "    return factors\n",
    "\n",
    "# Test the function\n",
    "try:\n",
    "    user_input = int(input(\"Enter a positive integer: \"))\n",
    "    factors_result = find_factors(user_input)\n",
    "    print(f\"The factors of {user_input} are: {factors_result}\")\n",
    "except ValueError:\n",
    "    print(\"Error: Please enter a valid positive integer.\")\n"
   ]
  },
  {
   "cell_type": "raw",
   "id": "a2e45dfb",
   "metadata": {},
   "source": [
    "3.Write and test a function that determines if a given integer is a prime number. A\n",
    "prime number is an integer greater than 1 that cannot be produced by multiplying\n",
    "two other integers."
   ]
  },
  {
   "cell_type": "code",
   "execution_count": 5,
   "id": "34315b21",
   "metadata": {},
   "outputs": [
    {
     "name": "stdout",
     "output_type": "stream",
     "text": [
      "Enter an integer: 3\n",
      "3 is a prime number.\n"
     ]
    }
   ],
   "source": [
    "def is_prime(number):\n",
    "    if number <= 1:\n",
    "        return False\n",
    "\n",
    "    for i in range(2, int(number**0.5) + 1):\n",
    "        if number % i == 0:\n",
    "            return False\n",
    "\n",
    "    return True\n",
    "\n",
    "# Test the function\n",
    "try:\n",
    "    user_input = int(input(\"Enter an integer: \"))\n",
    "    if is_prime(user_input):\n",
    "        print(f\"{user_input} is a prime number.\")\n",
    "    else:\n",
    "        print(f\"{user_input} is not a prime number.\")\n",
    "except ValueError:\n",
    "    print(\"Error: Please enter a valid integer.\")\n"
   ]
  },
  {
   "cell_type": "raw",
   "id": "a596db58",
   "metadata": {},
   "source": [
    "4.Computers are commonly used in encryption. A very simple form of encryption\n",
    "(more accurately \"obfuscation\") would be to remove the spaces from a message\n",
    "and reverse the resulting string. Write, and test, a function that takes a string\n",
    "containing a message and \"encrypts\" it in this way."
   ]
  },
  {
   "cell_type": "code",
   "execution_count": 6,
   "id": "d1c9eb19",
   "metadata": {},
   "outputs": [
    {
     "name": "stdout",
     "output_type": "stream",
     "text": [
      "Enter a message to encrypt: how are you ?\n",
      "The encrypted message is: ?uoyerawoh\n"
     ]
    }
   ],
   "source": [
    "def simple_encrypt(message):\n",
    "    # Remove spaces and reverse the string\n",
    "    encrypted_message = message.replace(\" \", \"\")[::-1]\n",
    "    return encrypted_message\n",
    "\n",
    "# Test the function\n",
    "user_input = input(\"Enter a message to encrypt: \")\n",
    "encrypted_result = simple_encrypt(user_input)\n",
    "print(f\"The encrypted message is: {encrypted_result}\")\n"
   ]
  },
  {
   "cell_type": "raw",
   "id": "c259b025",
   "metadata": {},
   "source": [
    "5.Another way to hide a message is to include the letters that make it up within\n",
    "seemingly random text. The letters of the message might be every fift h character,\n",
    "for example. Write and test a function that does such encryption. It should\n",
    "randomly generate an interval (between 2 and 20), space the message out\n",
    "accordingly, and should fill the gaps with random letters. The function should\n",
    "return the encrypted message and the interval used.\n",
    "For example, if the message is \"send cheese\", the random interval is 2, and for\n",
    "clarity the random letters are not random:\n",
    "send cheese\n",
    "s e n d c h e e s e\n",
    "sxyexynxydxy cxyhxyexyexysxye"
   ]
  },
  {
   "cell_type": "code",
   "execution_count": 7,
   "id": "4c032e05",
   "metadata": {},
   "outputs": [
    {
     "name": "stdout",
     "output_type": "stream",
     "text": [
      "Enter a message to encrypt: nepal is under attack\n",
      "The encrypted message is: nkxjrqyftrgeduqihutmyxpiihhtmmenlacprocdirwplmcfqvxqbwd iswcibgmwrhsfbpymdsxun uzsesyidyrqnnpgoqdlgrhdzllsyzfjxcewqzrtipyfdrrttslasmqq aubffpdpczgtjtlghkqasatrryuajgnfoalppounmszjccrrontcjzpkezrwwbsdvg\n",
      "The interval used is: 11\n"
     ]
    }
   ],
   "source": [
    "import random\n",
    "import string\n",
    "\n",
    "def random_interval_encrypt(message):\n",
    "    interval = random.randint(2, 20)\n",
    "    encrypted_message = \"\"\n",
    "\n",
    "    for i in range(len(message)):\n",
    "        if message[i] == ' ':\n",
    "            encrypted_message += ' '\n",
    "        else:\n",
    "            encrypted_message += message[i] + ''.join(random.choice(string.ascii_lowercase) for _ in range(interval - 1))\n",
    "\n",
    "    return encrypted_message, interval\n",
    "\n",
    "# Test the function\n",
    "user_input = input(\"Enter a message to encrypt: \")\n",
    "encrypted_result, interval_used = random_interval_encrypt(user_input)\n",
    "print(f\"The encrypted message is: {encrypted_result}\")\n",
    "print(f\"The interval used is: {interval_used}\")\n",
    "\n"
   ]
  },
  {
   "cell_type": "raw",
   "id": "f4d7e5ec",
   "metadata": {},
   "source": [
    "6.Write a program that decrypts messages encoded as above."
   ]
  },
  {
   "cell_type": "code",
   "execution_count": 9,
   "id": "22b92e45",
   "metadata": {},
   "outputs": [
    {
     "name": "stdout",
     "output_type": "stream",
     "text": [
      "Enter the encrypted message:  nkxjrqyftrgeduqihutmyxpiihhtmmenlacprocdirwplmcfqvxqbwd iswcibgmwrhsfbpymdsxun uzsesyidyrqnnpgoqdlgrhdzllsyzfjxcewqzrtipyfdrrttslasmqq aubffpdpczgtjtlghkqasatrryuajgnfoalppounmszjccrrontcjzpkezrwwbsdvg\n",
      "Enter the interval used for encryption: 11\n",
      "The decrypted message is:  gxlpdruygjympqgmcs\n"
     ]
    }
   ],
   "source": [
    "def random_interval_decrypt(encrypted_message, interval_used):\n",
    "    decrypted_message = \"\"\n",
    "\n",
    "    for i in range(len(encrypted_message)):\n",
    "        if encrypted_message[i] == ' ':\n",
    "            decrypted_message += ' '\n",
    "        else:\n",
    "            decrypted_message += encrypted_message[i]\n",
    "\n",
    "    return decrypted_message[::interval_used]\n",
    "\n",
    "# Test the decryption function\n",
    "encrypted_input = input(\"Enter the encrypted message: \")\n",
    "interval_used_input = int(input(\"Enter the interval used for encryption: \"))\n",
    "\n",
    "decrypted_result = random_interval_decrypt(encrypted_input, interval_used_input)\n",
    "print(f\"The decrypted message is: {decrypted_result}\")\n"
   ]
  },
  {
   "cell_type": "code",
   "execution_count": null,
   "id": "8f912747",
   "metadata": {},
   "outputs": [],
   "source": []
  }
 ],
 "metadata": {
  "kernelspec": {
   "display_name": "Python 3 (ipykernel)",
   "language": "python",
   "name": "python3"
  },
  "language_info": {
   "codemirror_mode": {
    "name": "ipython",
    "version": 3
   },
   "file_extension": ".py",
   "mimetype": "text/x-python",
   "name": "python",
   "nbconvert_exporter": "python",
   "pygments_lexer": "ipython3",
   "version": "3.9.13"
  }
 },
 "nbformat": 4,
 "nbformat_minor": 5
}
